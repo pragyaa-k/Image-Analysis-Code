{
 "cells": [
  {
   "cell_type": "code",
   "execution_count": null,
   "id": "fb47ade0",
   "metadata": {},
   "outputs": [],
   "source": [
    "###### ALL NOTES COMINED IN ONE - NOT FINAL CODE ######\n",
    "\n",
    "\n",
    "# os = opertating system \n",
    "import os\n",
    "import pandas as pd \n",
    "import matplotlib.pyplot as plt\n",
    "import numpy as np\n",
    "\n",
    "# add r before- for pathways - treat as raw string - so if /n - then not considered as new line\n",
    "# create variable to get to the folder on laptop  \n",
    "# to get the path do rigth click + option on folder- pick copy as pathname\n",
    "csv_folder = r\"/Users/Prags/Desktop/241009_AV1200_YES_Live/Tif_Images/Results_Tables\"\n",
    "\n",
    "# create variable to store all the files from the folder \n",
    "file_list = os.listdir(csv_folder)\n",
    "print (file_list)\n",
    "\n",
    "# create an empty list to store only the csv files from the full file list \n",
    "csv_list = []\n",
    "\n",
    "# loop through all the files \n",
    "for i in range (len(file_list)):\n",
    "# if the file ends with csv - then it add it to the empty list created above \n",
    "    if file_list[i].endswith (\".csv\"):\n",
    "        csv_list.append(file_list[i])\n",
    "        \n",
    "print (csv_list)\n",
    "\n",
    "# joining path - from folder to file \n",
    "test_path=os.path.join(csv_folder,csv_list[0])\n",
    "print (test_path)\n",
    "\n",
    "# with panda - varibales need to have df in name \n",
    "df = pd.read_csv(test_path)\n",
    "print (df)\n",
    "print (df.columns)\n",
    "print (df[\"Area\"])\n",
    "\n",
    "df_all = pd.concat(csv_list)\n",
    "print (df_all)\n",
    "df_all.to_csv(os.path.join(\"/Users/Prags/Desktop/241009_AV1200_YES_Live/Tif_Images\", \"YES_Live_all.csv\"))\n"
   ]
  },
  {
   "cell_type": "code",
   "execution_count": 1,
   "id": "cec89445",
   "metadata": {},
   "outputs": [
    {
     "ename": "FileNotFoundError",
     "evalue": "[Errno 2] No such file or directory: '/Users/Prags/Desktop/241009_AV1200_YES_Live/Tif_Images/Results_Tables'",
     "output_type": "error",
     "traceback": [
      "\u001b[0;31m---------------------------------------------------------------------------\u001b[0m",
      "\u001b[0;31mFileNotFoundError\u001b[0m                         Traceback (most recent call last)",
      "Cell \u001b[0;32mIn[1], line 14\u001b[0m\n\u001b[1;32m     11\u001b[0m csv_folder \u001b[38;5;241m=\u001b[39m \u001b[38;5;124mr\u001b[39m\u001b[38;5;124m\"\u001b[39m\u001b[38;5;124m/Users/Prags/Desktop/241009_AV1200_YES_Live/Tif_Images/Results_Tables\u001b[39m\u001b[38;5;124m\"\u001b[39m\n\u001b[1;32m     13\u001b[0m \u001b[38;5;66;03m# create variable to store all the files from the folder \u001b[39;00m\n\u001b[0;32m---> 14\u001b[0m file_list \u001b[38;5;241m=\u001b[39m os\u001b[38;5;241m.\u001b[39mlistdir(csv_folder)\n\u001b[1;32m     16\u001b[0m \u001b[38;5;66;03m# create an empty list to store only the csv files from the full file list \u001b[39;00m\n\u001b[1;32m     17\u001b[0m csv_list \u001b[38;5;241m=\u001b[39m []\n",
      "\u001b[0;31mFileNotFoundError\u001b[0m: [Errno 2] No such file or directory: '/Users/Prags/Desktop/241009_AV1200_YES_Live/Tif_Images/Results_Tables'"
     ]
    }
   ],
   "source": [
    "#### FINAL CODE #### \n",
    "\n",
    "\n",
    "# import important libraries \n",
    "import os\n",
    "import pandas as pd \n",
    "import matplotlib.pyplot as plt\n",
    "import numpy as np\n",
    "\n",
    "# create variable to get to the folder on computer  \n",
    "csv_folder = r\"/Users/Prags/Desktop/241009_AV1200_YES_Live/Tif_Images/Results_Tables\"\n",
    "\n",
    "# create variable to store all the files from the folder \n",
    "file_list = os.listdir(csv_folder)\n",
    "\n",
    "# create an empty list to store only the csv files from the full file list \n",
    "csv_list = []\n",
    "\n",
    "# loop through all the files \n",
    "for i in range (len(file_list)):\n",
    "    \n",
    "# if the file ends with csv - then it add it to the csv_list \n",
    "    if file_list[i].endswith (\".csv\"):\n",
    "        \n",
    "    # join the path of the folder with the current file \n",
    "        file_path = os.path.join(csv_folder, file_list[i])\n",
    "        \n",
    "        # read the CSV file into a Dataframe \n",
    "        df = pd.read_csv(file_path)\n",
    "        \n",
    "        # add the df to the csv_list \n",
    "        csv_list.append(df)\n",
    "        \n",
    "print (csv_list)"
   ]
  },
  {
   "cell_type": "code",
   "execution_count": null,
   "id": "11676e10",
   "metadata": {},
   "outputs": [],
   "source": [
    "# provides a summary table - describing the data in the dataframe \n",
    "df_all.describe()"
   ]
  },
  {
   "cell_type": "code",
   "execution_count": null,
   "id": "f5bee6a9",
   "metadata": {},
   "outputs": [],
   "source": [
    "# plotting histograms \n",
    "# bins - we can change later - to have the same width rather than the same number - \n",
    "# standardises data for comparision \n",
    "# df_all[\"Area\"] - gets the column mentioned from the dataframe that has all the information\n",
    "\n",
    "plt.hist(df_all[\"Area\"], bins=30, color='g', alpha=0.7)\n",
    "plt.xlabel('Area of Nucleus (microns$^2$)') \n",
    "plt.ylabel('Frequency')  \n",
    "plt.title('Area of Different Nuclei') "
   ]
  },
  {
   "cell_type": "code",
   "execution_count": null,
   "id": "11f8e9c3",
   "metadata": {},
   "outputs": [],
   "source": [
    "plt.hist(df_all[\"Circ.\"], bins=30, color='g', alpha=0.7)\n",
    "plt.xlabel('Circularity of Nucleus') \n",
    "plt.ylabel('Frequency')  \n",
    "plt.title('Circularity of Nucleus') "
   ]
  },
  {
   "cell_type": "code",
   "execution_count": null,
   "id": "3bba55a4",
   "metadata": {},
   "outputs": [],
   "source": [
    "plt.hist(df_all[\"Solidity\"], bins=30, color='g', alpha=0.7)\n",
    "plt.xlabel('Solidity of Nucleus') \n",
    "plt.ylabel('Frequency')  \n",
    "plt.title('Solidity of Nucleus') "
   ]
  }
 ],
 "metadata": {
  "kernelspec": {
   "display_name": "Python 3 (ipykernel)",
   "language": "python",
   "name": "python3"
  },
  "language_info": {
   "codemirror_mode": {
    "name": "ipython",
    "version": 3
   },
   "file_extension": ".py",
   "mimetype": "text/x-python",
   "name": "python",
   "nbconvert_exporter": "python",
   "pygments_lexer": "ipython3",
   "version": "3.11.5"
  }
 },
 "nbformat": 4,
 "nbformat_minor": 5
}
